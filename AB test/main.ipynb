{
 "cells": [
  {
   "cell_type": "markdown",
   "id": "b5135538",
   "metadata": {},
   "source": [
    "# А/B тестироване\n"
   ]
  },
  {
   "cell_type": "markdown",
   "id": "e2f015da",
   "metadata": {},
   "source": [
    "В распоряжении датасет для A/B-тестирования - это синтетический набор данных, сгенерированный с использованием техники случайной выборки из библиотеки NumPy. Датасет имитирует информацию о посещениях пользователями розничного веб-сайта, работающего по всей Великобритании. <br>\n",
    "Пользователи разделены на две группы - группа А (контрольная) и группа В (тестовая). <br>\n",
    "представим, что компания хочет протестировать следующее изменение на сайте: изменить цвет фона с белого на черный и проверить, как данное изменение повлияет на время, которое пользователи проводят на сайте. <br>\n",
    "Этот вопрос ставится для достижения основной цели анализа - повышения вовлеченности пользователей. <br>\n",
    "В данном случае: <br>\n",
    "- Белый цвет присваивается группе А, как фоновый цвет страницы\n",
    "- Черный цвет присваивается группе В, как фоновый цвет страницы\n"
   ]
  },
  {
   "cell_type": "markdown",
   "id": "05ee7ef0",
   "metadata": {},
   "source": [
    "### Цель <br>\n",
    "Целью анализа является выявление того, является ли статистически значимым увеличение просмотров страницы, если применить новое оформление. Для этого проведем А/B тестирование"
   ]
  },
  {
   "cell_type": "markdown",
   "id": "528d61b9",
   "metadata": {},
   "source": [
    "### Задачи \n",
    "- Подготовка данных \n",
    "- Анализ результатов A/B тестирования\n",
    "- Выводы"
   ]
  },
  {
   "cell_type": "markdown",
   "id": "7c7d8ce9",
   "metadata": {},
   "source": [
    "### Описание столбцов <br>\n",
    "- User ID: Уникальный идентификатор пользователя  \n",
    "- Group: Указывает на группу — контрольная (A) или тестовая (B)   \n",
    "- Page Views: Количество просмотренных страниц за сессию  \n",
    "- Time Spent: Общее время (в секундах), проведённое пользователем на сайте  \n",
    "- Conversion: Завершил ли пользователь целевое действие (Да/Нет)  \n",
    "- Device: Тип устройства, с которого пользователь зашёл на сайт \n",
    "- Location: Регион в Великобритании, где находится пользователь"
   ]
  },
  {
   "cell_type": "markdown",
   "id": "7000dcde",
   "metadata": {},
   "source": [
    "### Импорт необходимых библиотек и обзор данных"
   ]
  },
  {
   "cell_type": "code",
   "execution_count": null,
   "id": "7edeef7e",
   "metadata": {},
   "outputs": [],
   "source": [
    "import pandas as pd\n",
    "import numpy as np\n",
    "import matplotlib.pyplot as plt\n",
    "import seaborn as sns"
   ]
  },
  {
   "cell_type": "code",
   "execution_count": 3,
   "id": "14d72089",
   "metadata": {},
   "outputs": [],
   "source": [
    "data = pd.read_csv('ab_testing.csv')"
   ]
  },
  {
   "cell_type": "code",
   "execution_count": 7,
   "id": "bf0017ef",
   "metadata": {},
   "outputs": [
    {
     "data": {
      "text/html": [
       "<div>\n",
       "<style scoped>\n",
       "    .dataframe tbody tr th:only-of-type {\n",
       "        vertical-align: middle;\n",
       "    }\n",
       "\n",
       "    .dataframe tbody tr th {\n",
       "        vertical-align: top;\n",
       "    }\n",
       "\n",
       "    .dataframe thead th {\n",
       "        text-align: right;\n",
       "    }\n",
       "</style>\n",
       "<table border=\"1\" class=\"dataframe\">\n",
       "  <thead>\n",
       "    <tr style=\"text-align: right;\">\n",
       "      <th></th>\n",
       "      <th>User ID</th>\n",
       "      <th>Group</th>\n",
       "      <th>Page Views</th>\n",
       "      <th>Time Spent</th>\n",
       "      <th>Conversion</th>\n",
       "      <th>Device</th>\n",
       "      <th>Location</th>\n",
       "    </tr>\n",
       "  </thead>\n",
       "  <tbody>\n",
       "    <tr>\n",
       "      <th>0</th>\n",
       "      <td>14292</td>\n",
       "      <td>B</td>\n",
       "      <td>3</td>\n",
       "      <td>424</td>\n",
       "      <td>No</td>\n",
       "      <td>Mobile</td>\n",
       "      <td>Northern Ireland</td>\n",
       "    </tr>\n",
       "    <tr>\n",
       "      <th>1</th>\n",
       "      <td>11682</td>\n",
       "      <td>A</td>\n",
       "      <td>9</td>\n",
       "      <td>342</td>\n",
       "      <td>No</td>\n",
       "      <td>Mobile</td>\n",
       "      <td>Scotland</td>\n",
       "    </tr>\n",
       "    <tr>\n",
       "      <th>2</th>\n",
       "      <td>19825</td>\n",
       "      <td>A</td>\n",
       "      <td>2</td>\n",
       "      <td>396</td>\n",
       "      <td>No</td>\n",
       "      <td>Desktop</td>\n",
       "      <td>Northern Ireland</td>\n",
       "    </tr>\n",
       "    <tr>\n",
       "      <th>3</th>\n",
       "      <td>16080</td>\n",
       "      <td>B</td>\n",
       "      <td>4</td>\n",
       "      <td>318</td>\n",
       "      <td>No</td>\n",
       "      <td>Desktop</td>\n",
       "      <td>Wales</td>\n",
       "    </tr>\n",
       "    <tr>\n",
       "      <th>4</th>\n",
       "      <td>18851</td>\n",
       "      <td>A</td>\n",
       "      <td>1</td>\n",
       "      <td>338</td>\n",
       "      <td>Yes</td>\n",
       "      <td>Desktop</td>\n",
       "      <td>Scotland</td>\n",
       "    </tr>\n",
       "  </tbody>\n",
       "</table>\n",
       "</div>"
      ],
      "text/plain": [
       "   User ID Group  Page Views  Time Spent Conversion   Device          Location\n",
       "0    14292     B           3         424         No   Mobile  Northern Ireland\n",
       "1    11682     A           9         342         No   Mobile          Scotland\n",
       "2    19825     A           2         396         No  Desktop  Northern Ireland\n",
       "3    16080     B           4         318         No  Desktop             Wales\n",
       "4    18851     A           1         338        Yes  Desktop          Scotland"
      ]
     },
     "execution_count": 7,
     "metadata": {},
     "output_type": "execute_result"
    }
   ],
   "source": [
    "data.head()"
   ]
  },
  {
   "cell_type": "markdown",
   "id": "9030ef48",
   "metadata": {},
   "source": [
    "Для удобства переименуем столбцы и сделаем все буквы строчными"
   ]
  },
  {
   "cell_type": "code",
   "execution_count": 9,
   "id": "77b91edb",
   "metadata": {},
   "outputs": [
    {
     "data": {
      "text/plain": [
       "User ID       0\n",
       "Group         0\n",
       "Page Views    0\n",
       "Time Spent    0\n",
       "Conversion    0\n",
       "Device        0\n",
       "Location      0\n",
       "dtype: int64"
      ]
     },
     "execution_count": 9,
     "metadata": {},
     "output_type": "execute_result"
    }
   ],
   "source": [
    "data.isna().sum()"
   ]
  },
  {
   "cell_type": "markdown",
   "id": "f776d38c",
   "metadata": {},
   "source": [
    "Датасет не содержит пропусков"
   ]
  },
  {
   "cell_type": "markdown",
   "id": "19903e86",
   "metadata": {},
   "source": [
    "## Предобработка данных"
   ]
  },
  {
   "cell_type": "markdown",
   "id": "131035f5",
   "metadata": {},
   "source": [
    "Приведем названия столбцов в удобный вид для дальнейшей работы (уберем пробелы и все буквы сделаем строчными)"
   ]
  },
  {
   "cell_type": "code",
   "execution_count": 17,
   "id": "79614046",
   "metadata": {},
   "outputs": [],
   "source": [
    "def name_col(col):\n",
    "    return '_'.join(col.lower().split(' '))\n",
    "new_cols = []\n",
    "for col in data.columns:\n",
    "    new_cols.append(name_col(col))\n",
    "\n",
    "data.columns = new_cols\n"
   ]
  },
  {
   "cell_type": "markdown",
   "id": "9b49c376",
   "metadata": {},
   "source": [
    "Заменим значение в столбце conversion на 1 (Yes) и 0 (No)"
   ]
  },
  {
   "cell_type": "code",
   "execution_count": 21,
   "id": "c91530e1",
   "metadata": {},
   "outputs": [],
   "source": [
    "data['conversion']=data['conversion'].apply(lambda x: 1 if x=='Yes' else 0)"
   ]
  },
  {
   "cell_type": "code",
   "execution_count": 22,
   "id": "18d2627e",
   "metadata": {},
   "outputs": [
    {
     "data": {
      "text/html": [
       "<div>\n",
       "<style scoped>\n",
       "    .dataframe tbody tr th:only-of-type {\n",
       "        vertical-align: middle;\n",
       "    }\n",
       "\n",
       "    .dataframe tbody tr th {\n",
       "        vertical-align: top;\n",
       "    }\n",
       "\n",
       "    .dataframe thead th {\n",
       "        text-align: right;\n",
       "    }\n",
       "</style>\n",
       "<table border=\"1\" class=\"dataframe\">\n",
       "  <thead>\n",
       "    <tr style=\"text-align: right;\">\n",
       "      <th></th>\n",
       "      <th>user_id</th>\n",
       "      <th>group</th>\n",
       "      <th>page_views</th>\n",
       "      <th>time_spent</th>\n",
       "      <th>conversion</th>\n",
       "      <th>device</th>\n",
       "      <th>location</th>\n",
       "    </tr>\n",
       "  </thead>\n",
       "  <tbody>\n",
       "    <tr>\n",
       "      <th>0</th>\n",
       "      <td>14292</td>\n",
       "      <td>B</td>\n",
       "      <td>3</td>\n",
       "      <td>424</td>\n",
       "      <td>0</td>\n",
       "      <td>Mobile</td>\n",
       "      <td>Northern Ireland</td>\n",
       "    </tr>\n",
       "    <tr>\n",
       "      <th>1</th>\n",
       "      <td>11682</td>\n",
       "      <td>A</td>\n",
       "      <td>9</td>\n",
       "      <td>342</td>\n",
       "      <td>0</td>\n",
       "      <td>Mobile</td>\n",
       "      <td>Scotland</td>\n",
       "    </tr>\n",
       "    <tr>\n",
       "      <th>2</th>\n",
       "      <td>19825</td>\n",
       "      <td>A</td>\n",
       "      <td>2</td>\n",
       "      <td>396</td>\n",
       "      <td>0</td>\n",
       "      <td>Desktop</td>\n",
       "      <td>Northern Ireland</td>\n",
       "    </tr>\n",
       "    <tr>\n",
       "      <th>3</th>\n",
       "      <td>16080</td>\n",
       "      <td>B</td>\n",
       "      <td>4</td>\n",
       "      <td>318</td>\n",
       "      <td>0</td>\n",
       "      <td>Desktop</td>\n",
       "      <td>Wales</td>\n",
       "    </tr>\n",
       "    <tr>\n",
       "      <th>4</th>\n",
       "      <td>18851</td>\n",
       "      <td>A</td>\n",
       "      <td>1</td>\n",
       "      <td>338</td>\n",
       "      <td>1</td>\n",
       "      <td>Desktop</td>\n",
       "      <td>Scotland</td>\n",
       "    </tr>\n",
       "    <tr>\n",
       "      <th>...</th>\n",
       "      <td>...</td>\n",
       "      <td>...</td>\n",
       "      <td>...</td>\n",
       "      <td>...</td>\n",
       "      <td>...</td>\n",
       "      <td>...</td>\n",
       "      <td>...</td>\n",
       "    </tr>\n",
       "    <tr>\n",
       "      <th>4995</th>\n",
       "      <td>16360</td>\n",
       "      <td>B</td>\n",
       "      <td>12</td>\n",
       "      <td>313</td>\n",
       "      <td>0</td>\n",
       "      <td>Mobile</td>\n",
       "      <td>Wales</td>\n",
       "    </tr>\n",
       "    <tr>\n",
       "      <th>4996</th>\n",
       "      <td>18084</td>\n",
       "      <td>B</td>\n",
       "      <td>10</td>\n",
       "      <td>313</td>\n",
       "      <td>0</td>\n",
       "      <td>Desktop</td>\n",
       "      <td>Northern Ireland</td>\n",
       "    </tr>\n",
       "    <tr>\n",
       "      <th>4997</th>\n",
       "      <td>12063</td>\n",
       "      <td>A</td>\n",
       "      <td>11</td>\n",
       "      <td>156</td>\n",
       "      <td>0</td>\n",
       "      <td>Desktop</td>\n",
       "      <td>England</td>\n",
       "    </tr>\n",
       "    <tr>\n",
       "      <th>4998</th>\n",
       "      <td>18647</td>\n",
       "      <td>B</td>\n",
       "      <td>13</td>\n",
       "      <td>346</td>\n",
       "      <td>0</td>\n",
       "      <td>Desktop</td>\n",
       "      <td>Wales</td>\n",
       "    </tr>\n",
       "    <tr>\n",
       "      <th>4999</th>\n",
       "      <td>16686</td>\n",
       "      <td>A</td>\n",
       "      <td>11</td>\n",
       "      <td>208</td>\n",
       "      <td>0</td>\n",
       "      <td>Desktop</td>\n",
       "      <td>Northern Ireland</td>\n",
       "    </tr>\n",
       "  </tbody>\n",
       "</table>\n",
       "<p>5000 rows × 7 columns</p>\n",
       "</div>"
      ],
      "text/plain": [
       "      user_id group  page_views  time_spent  conversion   device  \\\n",
       "0       14292     B           3         424           0   Mobile   \n",
       "1       11682     A           9         342           0   Mobile   \n",
       "2       19825     A           2         396           0  Desktop   \n",
       "3       16080     B           4         318           0  Desktop   \n",
       "4       18851     A           1         338           1  Desktop   \n",
       "...       ...   ...         ...         ...         ...      ...   \n",
       "4995    16360     B          12         313           0   Mobile   \n",
       "4996    18084     B          10         313           0  Desktop   \n",
       "4997    12063     A          11         156           0  Desktop   \n",
       "4998    18647     B          13         346           0  Desktop   \n",
       "4999    16686     A          11         208           0  Desktop   \n",
       "\n",
       "              location  \n",
       "0     Northern Ireland  \n",
       "1             Scotland  \n",
       "2     Northern Ireland  \n",
       "3                Wales  \n",
       "4             Scotland  \n",
       "...                ...  \n",
       "4995             Wales  \n",
       "4996  Northern Ireland  \n",
       "4997           England  \n",
       "4998             Wales  \n",
       "4999  Northern Ireland  \n",
       "\n",
       "[5000 rows x 7 columns]"
      ]
     },
     "execution_count": 22,
     "metadata": {},
     "output_type": "execute_result"
    }
   ],
   "source": [
    "data"
   ]
  },
  {
   "cell_type": "markdown",
   "id": "7d9396d6",
   "metadata": {},
   "source": [
    "## Анализ результатов А/В тестирования"
   ]
  },
  {
   "cell_type": "markdown",
   "id": "e7dbea1b",
   "metadata": {},
   "source": [
    "### Анализ различий конверсии между группами А и В"
   ]
  },
  {
   "cell_type": "markdown",
   "id": "89374aee",
   "metadata": {},
   "source": [
    "Сформулируем гипотезы: <br>\n",
    "Н0: Изменение оформления никак не повляет на конверсию <br>\n",
    "Н1: Изменение оформления поспособствует увеличению конверсии"
   ]
  },
  {
   "cell_type": "markdown",
   "id": "89717ca1",
   "metadata": {},
   "source": [
    "Построим для начала таблицу со значениями конверсий для каждой из групп"
   ]
  },
  {
   "cell_type": "code",
   "execution_count": 35,
   "id": "dc491cd5",
   "metadata": {},
   "outputs": [
    {
     "data": {
      "text/html": [
       "<div>\n",
       "<style scoped>\n",
       "    .dataframe tbody tr th:only-of-type {\n",
       "        vertical-align: middle;\n",
       "    }\n",
       "\n",
       "    .dataframe tbody tr th {\n",
       "        vertical-align: top;\n",
       "    }\n",
       "\n",
       "    .dataframe thead th {\n",
       "        text-align: right;\n",
       "    }\n",
       "</style>\n",
       "<table border=\"1\" class=\"dataframe\">\n",
       "  <thead>\n",
       "    <tr style=\"text-align: right;\">\n",
       "      <th>conversion</th>\n",
       "      <th>0</th>\n",
       "      <th>1</th>\n",
       "    </tr>\n",
       "    <tr>\n",
       "      <th>group</th>\n",
       "      <th></th>\n",
       "      <th></th>\n",
       "    </tr>\n",
       "  </thead>\n",
       "  <tbody>\n",
       "    <tr>\n",
       "      <th>A</th>\n",
       "      <td>94.60</td>\n",
       "      <td>5.40</td>\n",
       "    </tr>\n",
       "    <tr>\n",
       "      <th>B</th>\n",
       "      <td>85.93</td>\n",
       "      <td>14.07</td>\n",
       "    </tr>\n",
       "  </tbody>\n",
       "</table>\n",
       "</div>"
      ],
      "text/plain": [
       "conversion      0      1\n",
       "group                   \n",
       "A           94.60   5.40\n",
       "B           85.93  14.07"
      ]
     },
     "execution_count": 35,
     "metadata": {},
     "output_type": "execute_result"
    }
   ],
   "source": [
    "round(pd.crosstab(data['group'], data['conversion'], normalize='index'),4) *100"
   ]
  },
  {
   "cell_type": "markdown",
   "id": "5480edf5",
   "metadata": {},
   "source": [
    "Построим график изменение конверсий по группам"
   ]
  },
  {
   "cell_type": "code",
   "execution_count": 60,
   "id": "ea29b11d",
   "metadata": {},
   "outputs": [
    {
     "name": "stderr",
     "output_type": "stream",
     "text": [
      "C:\\Users\\ILIYA\\AppData\\Local\\Temp\\ipykernel_13956\\1784272555.py:1: FutureWarning: \n",
      "\n",
      "The `ci` parameter is deprecated. Use `errorbar=('ci', 95)` for the same effect.\n",
      "\n",
      "  sns.pointplot(x='group', y='conversion', data=data, ci=95, capsize=.1)\n"
     ]
    },
    {
     "data": {
      "text/plain": [
       "<Axes: xlabel='group', ylabel='conversion'>"
      ]
     },
     "execution_count": 60,
     "metadata": {},
     "output_type": "execute_result"
    },
    {
     "data": {
      "image/png": "[encoded data removed]",
      "text/plain": [
       "<Figure size 640x480 with 1 Axes>"
      ]
     },
     "metadata": {},
     "output_type": "display_data"
    }
   ],
   "source": [
    "sns.pointplot(x='group', y='conversion', data=data, ci=95, capsize=.1)\n"
   ]
  },
  {
   "cell_type": "markdown",
   "id": "d7d1a92d",
   "metadata": {},
   "source": [
    "Из полученных результатов видно, что конверсия группы __А__ составила 5.40 %, а конверсия группы __В__ - 14.07. Значит прирост (uplift) составил __8.67 процентных пункта__ или 8.67/5.40 = __160.6 %__"
   ]
  },
  {
   "cell_type": "markdown",
   "id": "464051fb",
   "metadata": {},
   "source": [
    "Теперь необходимо проанализировать статистическую значимость полученных результатов и на основе этого уже принимать или отвергать нулевую гипотезу Н0. Для этого будет использован Z-test, с помощью которого удастся определить значение p-value (вероятность получить такие или еще более выраженные различия). Установим опорное значение p-value = 0.05, что значит, если полученное значение p-value будет меньше 0.05, то увеличение конверсии в группе В является статичтически значимым, а, следовательно, мы можем отвергнуть нулевую гипотезу и сделать вывод, что новое оформление действительно положительно влияет на конверсию"
   ]
  },
  {
   "cell_type": "code",
   "execution_count": 56,
   "id": "1189fed6",
   "metadata": {},
   "outputs": [
    {
     "name": "stdout",
     "output_type": "stream",
     "text": [
      "z-stat: -10.354488520266216\n",
      "p-value: 3.9931511894201938e-25\n"
     ]
    }
   ],
   "source": [
    "from statsmodels.stats.proportion import proportions_ztest\n",
    "\n",
    "converted_A = data[(data['group']=='A') & (data['conversion']==1)].shape[0] # число успешных конверсий в группе А\n",
    "converted_B = data[(data['group'] == 'B') & (data['conversion']==1)].shape[0] # число успешных конверсий в группе В\n",
    "\n",
    "total_A = data[data['group']=='A'].shape[0] # общее число наблюдений в группе А\n",
    "total_B = data[data['group']=='B'].shape[0] # общее число наблюдений в группе В\n",
    "\n",
    "success = [converted_A, converted_B]\n",
    "total = [total_A, total_B]\n",
    "\n",
    "z_stat, p_val = proportions_ztest(success, total)\n",
    "\n",
    "print(f'z-stat: {z_stat}')\n",
    "print(f'p-value: {p_val:}')"
   ]
  },
  {
   "cell_type": "markdown",
   "id": "1a590111",
   "metadata": {},
   "source": [
    "Значение p-value не привысило 0.05 (3.99*10^-25<0.05), следовательно мы можем отвергнуть нулевую гипотезу и сделать заключение о статистической значимости полученных изменений. Однако лучше также проверить влияние и вклад различных факторов на увеличение конверсии, например, платформы, с которой просматривалась страница или страны."
   ]
  },
  {
   "cell_type": "markdown",
   "id": "26d2f49f",
   "metadata": {},
   "source": [
    "### Анализ влияния различных факторов на конверсию в контексте групп А и В"
   ]
  },
  {
   "cell_type": "code",
   "execution_count": 65,
   "id": "b1a9e976",
   "metadata": {},
   "outputs": [
    {
     "name": "stdout",
     "output_type": "stream",
     "text": [
      "Optimization terminated successfully.\n",
      "         Current function value: 0.306408\n",
      "         Iterations 7\n"
     ]
    },
    {
     "data": {
      "text/html": [
       "<table class=\"simpletable\">\n",
       "<caption>Logit Regression Results</caption>\n",
       "<tr>\n",
       "  <th>Dep. Variable:</th>      <td>conversion</td>    <th>  No. Observations:  </th>  <td>  5000</td>  \n",
       "</tr>\n",
       "<tr>\n",
       "  <th>Model:</th>                 <td>Logit</td>      <th>  Df Residuals:      </th>  <td>  4988</td>  \n",
       "</tr>\n",
       "<tr>\n",
       "  <th>Method:</th>                 <td>MLE</td>       <th>  Df Model:          </th>  <td>    11</td>  \n",
       "</tr>\n",
       "<tr>\n",
       "  <th>Date:</th>            <td>Sun, 13 Apr 2025</td> <th>  Pseudo R-squ.:     </th>  <td>0.03779</td> \n",
       "</tr>\n",
       "<tr>\n",
       "  <th>Time:</th>                <td>21:25:11</td>     <th>  Log-Likelihood:    </th> <td> -1532.0</td> \n",
       "</tr>\n",
       "<tr>\n",
       "  <th>converged:</th>             <td>True</td>       <th>  LL-Null:           </th> <td> -1592.2</td> \n",
       "</tr>\n",
       "<tr>\n",
       "  <th>Covariance Type:</th>     <td>nonrobust</td>    <th>  LLR p-value:       </th> <td>1.559e-20</td>\n",
       "</tr>\n",
       "</table>\n",
       "<table class=\"simpletable\">\n",
       "<tr>\n",
       "                        <td></td>                           <th>coef</th>     <th>std err</th>      <th>z</th>      <th>P>|z|</th>  <th>[0.025</th>    <th>0.975]</th>  \n",
       "</tr>\n",
       "<tr>\n",
       "  <th>Intercept</th>                                     <td>   -2.5698</td> <td>    0.259</td> <td>   -9.920</td> <td> 0.000</td> <td>   -3.078</td> <td>   -2.062</td>\n",
       "</tr>\n",
       "<tr>\n",
       "  <th>C(group)[T.B]</th>                                 <td>    0.8069</td> <td>    0.312</td> <td>    2.586</td> <td> 0.010</td> <td>    0.195</td> <td>    1.419</td>\n",
       "</tr>\n",
       "<tr>\n",
       "  <th>C(device)[T.Mobile]</th>                           <td>   -0.1896</td> <td>    0.177</td> <td>   -1.071</td> <td> 0.284</td> <td>   -0.537</td> <td>    0.157</td>\n",
       "</tr>\n",
       "<tr>\n",
       "  <th>C(location)[T.Northern Ireland]</th>               <td>   -0.3464</td> <td>    0.244</td> <td>   -1.418</td> <td> 0.156</td> <td>   -0.825</td> <td>    0.132</td>\n",
       "</tr>\n",
       "<tr>\n",
       "  <th>C(location)[T.Scotland]</th>                       <td>   -0.3645</td> <td>    0.240</td> <td>   -1.520</td> <td> 0.129</td> <td>   -0.834</td> <td>    0.106</td>\n",
       "</tr>\n",
       "<tr>\n",
       "  <th>C(location)[T.Wales]</th>                          <td>   -0.4038</td> <td>    0.246</td> <td>   -1.639</td> <td> 0.101</td> <td>   -0.887</td> <td>    0.079</td>\n",
       "</tr>\n",
       "<tr>\n",
       "  <th>C(group)[T.B]:C(device)[T.Mobile]</th>             <td>    0.2203</td> <td>    0.212</td> <td>    1.041</td> <td> 0.298</td> <td>   -0.194</td> <td>    0.635</td>\n",
       "</tr>\n",
       "<tr>\n",
       "  <th>C(group)[T.B]:C(location)[T.Northern Ireland]</th> <td>    0.0610</td> <td>    0.296</td> <td>    0.206</td> <td> 0.837</td> <td>   -0.520</td> <td>    0.642</td>\n",
       "</tr>\n",
       "<tr>\n",
       "  <th>C(group)[T.B]:C(location)[T.Scotland]</th>         <td>    0.3933</td> <td>    0.288</td> <td>    1.366</td> <td> 0.172</td> <td>   -0.171</td> <td>    0.957</td>\n",
       "</tr>\n",
       "<tr>\n",
       "  <th>C(group)[T.B]:C(location)[T.Wales]</th>            <td>    0.4371</td> <td>    0.293</td> <td>    1.489</td> <td> 0.136</td> <td>   -0.138</td> <td>    1.012</td>\n",
       "</tr>\n",
       "<tr>\n",
       "  <th>time_spent</th>                                    <td>    0.0003</td> <td>    0.001</td> <td>    0.376</td> <td> 0.707</td> <td>   -0.001</td> <td>    0.002</td>\n",
       "</tr>\n",
       "<tr>\n",
       "  <th>C(group)[T.B]:time_spent</th>                      <td>   -0.0003</td> <td>    0.001</td> <td>   -0.365</td> <td> 0.715</td> <td>   -0.002</td> <td>    0.001</td>\n",
       "</tr>\n",
       "</table>"
      ],
      "text/latex": [
       "\\begin{center}\n",
       "\\begin{tabular}{lclc}\n",
       "\\toprule\n",
       "\\textbf{Dep. Variable:}                                &    conversion    & \\textbf{  No. Observations:  } &     5000    \\\\\n",
       "\\textbf{Model:}                                        &      Logit       & \\textbf{  Df Residuals:      } &     4988    \\\\\n",
       "\\textbf{Method:}                                       &       MLE        & \\textbf{  Df Model:          } &       11    \\\\\n",
       "\\textbf{Date:}                                         & Sun, 13 Apr 2025 & \\textbf{  Pseudo R-squ.:     } &  0.03779    \\\\\n",
       "\\textbf{Time:}                                         &     21:25:11     & \\textbf{  Log-Likelihood:    } &   -1532.0   \\\\\n",
       "\\textbf{converged:}                                    &       True       & \\textbf{  LL-Null:           } &   -1592.2   \\\\\n",
       "\\textbf{Covariance Type:}                              &    nonrobust     & \\textbf{  LLR p-value:       } & 1.559e-20   \\\\\n",
       "\\bottomrule\n",
       "\\end{tabular}\n",
       "\\begin{tabular}{lcccccc}\n",
       "                                                       & \\textbf{coef} & \\textbf{std err} & \\textbf{z} & \\textbf{P$> |$z$|$} & \\textbf{[0.025} & \\textbf{0.975]}  \\\\\n",
       "\\midrule\n",
       "\\textbf{Intercept}                                     &      -2.5698  &        0.259     &    -9.920  &         0.000        &       -3.078    &       -2.062     \\\\\n",
       "\\textbf{C(group)[T.B]}                                 &       0.8069  &        0.312     &     2.586  &         0.010        &        0.195    &        1.419     \\\\\n",
       "\\textbf{C(device)[T.Mobile]}                           &      -0.1896  &        0.177     &    -1.071  &         0.284        &       -0.537    &        0.157     \\\\\n",
       "\\textbf{C(location)[T.Northern Ireland]}               &      -0.3464  &        0.244     &    -1.418  &         0.156        &       -0.825    &        0.132     \\\\\n",
       "\\textbf{C(location)[T.Scotland]}                       &      -0.3645  &        0.240     &    -1.520  &         0.129        &       -0.834    &        0.106     \\\\\n",
       "\\textbf{C(location)[T.Wales]}                          &      -0.4038  &        0.246     &    -1.639  &         0.101        &       -0.887    &        0.079     \\\\\n",
       "\\textbf{C(group)[T.B]:C(device)[T.Mobile]}             &       0.2203  &        0.212     &     1.041  &         0.298        &       -0.194    &        0.635     \\\\\n",
       "\\textbf{C(group)[T.B]:C(location)[T.Northern Ireland]} &       0.0610  &        0.296     &     0.206  &         0.837        &       -0.520    &        0.642     \\\\\n",
       "\\textbf{C(group)[T.B]:C(location)[T.Scotland]}         &       0.3933  &        0.288     &     1.366  &         0.172        &       -0.171    &        0.957     \\\\\n",
       "\\textbf{C(group)[T.B]:C(location)[T.Wales]}            &       0.4371  &        0.293     &     1.489  &         0.136        &       -0.138    &        1.012     \\\\\n",
       "\\textbf{time\\_spent}                                   &       0.0003  &        0.001     &     0.376  &         0.707        &       -0.001    &        0.002     \\\\\n",
       "\\textbf{C(group)[T.B]:time\\_spent}                     &      -0.0003  &        0.001     &    -0.365  &         0.715        &       -0.002    &        0.001     \\\\\n",
       "\\bottomrule\n",
       "\\end{tabular}\n",
       "%\\caption{Logit Regression Results}\n",
       "\\end{center}"
      ],
      "text/plain": [
       "<class 'statsmodels.iolib.summary.Summary'>\n",
       "\"\"\"\n",
       "                           Logit Regression Results                           \n",
       "==============================================================================\n",
       "Dep. Variable:             conversion   No. Observations:                 5000\n",
       "Model:                          Logit   Df Residuals:                     4988\n",
       "Method:                           MLE   Df Model:                           11\n",
       "Date:                Sun, 13 Apr 2025   Pseudo R-squ.:                 0.03779\n",
       "Time:                        21:25:11   Log-Likelihood:                -1532.0\n",
       "converged:                       True   LL-Null:                       -1592.2\n",
       "Covariance Type:            nonrobust   LLR p-value:                 1.559e-20\n",
       "=================================================================================================================\n",
       "                                                    coef    std err          z      P>|z|      [0.025      0.975]\n",
       "-----------------------------------------------------------------------------------------------------------------\n",
       "Intercept                                        -2.5698      0.259     -9.920      0.000      -3.078      -2.062\n",
       "C(group)[T.B]                                     0.8069      0.312      2.586      0.010       0.195       1.419\n",
       "C(device)[T.Mobile]                              -0.1896      0.177     -1.071      0.284      -0.537       0.157\n",
       "C(location)[T.Northern Ireland]                  -0.3464      0.244     -1.418      0.156      -0.825       0.132\n",
       "C(location)[T.Scotland]                          -0.3645      0.240     -1.520      0.129      -0.834       0.106\n",
       "C(location)[T.Wales]                             -0.4038      0.246     -1.639      0.101      -0.887       0.079\n",
       "C(group)[T.B]:C(device)[T.Mobile]                 0.2203      0.212      1.041      0.298      -0.194       0.635\n",
       "C(group)[T.B]:C(location)[T.Northern Ireland]     0.0610      0.296      0.206      0.837      -0.520       0.642\n",
       "C(group)[T.B]:C(location)[T.Scotland]             0.3933      0.288      1.366      0.172      -0.171       0.957\n",
       "C(group)[T.B]:C(location)[T.Wales]                0.4371      0.293      1.489      0.136      -0.138       1.012\n",
       "time_spent                                        0.0003      0.001      0.376      0.707      -0.001       0.002\n",
       "C(group)[T.B]:time_spent                         -0.0003      0.001     -0.365      0.715      -0.002       0.001\n",
       "=================================================================================================================\n",
       "\"\"\""
      ]
     },
     "execution_count": 65,
     "metadata": {},
     "output_type": "execute_result"
    }
   ],
   "source": [
    "import statsmodels.formula.api as smf\n",
    "\n",
    "\n",
    "model = smf.logit(\n",
    "    formula='conversion ~ C(group) * C(device) + C(group) * C(location) + C(group) * time_spent',\n",
    "    data=data\n",
    ").fit()\n",
    "\n",
    "model.summary()\n"
   ]
  },
  {
   "cell_type": "markdown",
   "id": "50cf522c",
   "metadata": {},
   "source": [
    "__Влияние device на конверсию__ <br>\n",
    "C(device)[T.Mobile] = -0.1896 (p-value = 0.284) <br>\n",
    "Результат статистически незначимый. Влияния девайса на конверсию не наблюдается. <br><br>\n",
    "\n",
    "__Влияние location Ireland, Scotland, Wales на конверсию__ <br>\n",
    "p-value > 0.1<br>\n",
    "Результат статистически незначимый. Влияния страны на конверсию не наблюдается.<br><br>\n",
    "\n",
    "__Итеракция C(group)[T.B]:C(device)[T.Mobile] и остальные__<br>\n",
    "Итеракция = эффект девайса зависит от группы<br>\n",
    "p-value > 0.1<br>\n",
    "Результат статистически незначимый. Влияния итеракций на конверсию не наблюдается.<br><br>\n",
    "\n",
    "__Влияние time_stamp на конверсию__ <br>\n",
    "time_spent = 0.0003 (p-value = 0.707)<br>\n",
    "Результат статистически незначимый. Влияния времени, проведенного на сайте на конверсию не наблюдается.<br>\n",
    "\n",
    "\n"
   ]
  },
  {
   "cell_type": "markdown",
   "id": "9bce0b27",
   "metadata": {},
   "source": [
    "## Вывод"
   ]
  },
  {
   "cell_type": "markdown",
   "id": "9bbfcf5e",
   "metadata": {},
   "source": [
    "По итогам анализа результатов А/В теста удалось выяснить, что конверсия тестовой группы по результатам эксперимента увеличилась на 8.67 процентных пункта. Удалось также доказать статистическую значимость полученных результатов, проведя Z-test. Также с помощью логистической регрессии удалось проанализировать влияние различных факторов на конверсию и по результатам исследования оказалось, что единственное что влияет на увеличение конверсии является принадлежность к группе В (тестовой), то есть к тем, кто видел новый дизайн сайта. Девайс, страна, а также время, проведенное на сайте не показали статистически значимых результатов при анализе их влияиния на конверсию. Проведя А/В тестирование и проанализировав результаты, удалось установить, что редизайн сайта положительно сказался на ключевой метрике, увеличив конверсию на 8.67 процентных пункта."
   ]
  },
  {
   "cell_type": "markdown",
   "id": "63541722",
   "metadata": {},
   "source": []
  }
 ],
 "metadata": {
  "kernelspec": {
   "display_name": "Python 3",
   "language": "python",
   "name": "python3"
  },
  "language_info": {
   "codemirror_mode": {
    "name": "ipython",
    "version": 3
   },
   "file_extension": ".py",
   "mimetype": "text/x-python",
   "name": "python",
   "nbconvert_exporter": "python",
   "pygments_lexer": "ipython3",
   "version": "3.12.4"
  }
 },
 "nbformat": 4,
 "nbformat_minor": 5
}
