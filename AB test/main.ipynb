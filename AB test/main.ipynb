{
 "cells": [
  {
   "cell_type": "markdown",
   "id": "b5135538",
   "metadata": {},
   "source": [
    "# А/B тестироване\n"
   ]
  },
  {
   "cell_type": "markdown",
   "id": "e2f015da",
   "metadata": {},
   "source": [
    "В распоряжении датасет для A/B-тестирования - это синтетический набор данных, сгенерированный с использованием техники случайной выборки из библиотеки NumPy. Датасет имитирует информацию о посещениях пользователями розничного веб-сайта, работающего по всей Великобритании. <br>\n",
    "Пользователи разделены на две группы - группа А (контрольная) и группа В (тестовая). <br>\n",
    "представим, что компания хочет протестировать следующее изменение на сайте: изменить цвет фона с белого на черный и проверить, как данное изменение повлияет на время, которое пользователи проводят на сайте, количество страниц, которое просматривают и конверсию. <br>\n",
    "Этот вопрос ставится для достижения основной цели анализа - повышения вовлеченности пользователей. <br>\n",
    "В данном случае: <br>\n",
    "- Белый цвет присваивается группе А, как фоновый цвет страницы\n",
    "- Черный цвет присваивается группе В, как фоновый цвет страницы\n"
   ]
  },
  {
   "cell_type": "markdown",
   "id": "05ee7ef0",
   "metadata": {},
   "source": [
    "### Цель <br>\n",
    "Целью анализа является выявление того, является ли статистически значимым увеличение просмотров страницы, время, провеленное на странице и конверсия, если применить новое оформление. Для этого проведем А/B тестирование"
   ]
  },
  {
   "cell_type": "markdown",
   "id": "528d61b9",
   "metadata": {},
   "source": [
    "### Задачи \n",
    "- Подготовка данных \n",
    "- Анализ результатов A/B тестирования\n",
    "- Выводы"
   ]
  },
  {
   "cell_type": "markdown",
   "id": "7c7d8ce9",
   "metadata": {},
   "source": [
    "### Описание столбцов <br>\n",
    "- User ID: Уникальный идентификатор пользователя  \n",
    "- Group: Указывает на группу — контрольная (A) или тестовая (B)   \n",
    "- Page Views: Количество просмотренных страниц за сессию  \n",
    "- Time Spent: Общее время (в секундах), проведённое пользователем на сайте  \n",
    "- Conversion: Завершил ли пользователь целевое действие (Да/Нет)  \n",
    "- Device: Тип устройства, с которого пользователь зашёл на сайт \n",
    "- Location: Регион в Великобритании, где находится пользователь"
   ]
  },
  {
   "cell_type": "markdown",
   "id": "7000dcde",
   "metadata": {},
   "source": [
    "### Импорт необходимых библиотек и обзор данных"
   ]
  },
  {
   "cell_type": "code",
   "execution_count": 38,
   "id": "7edeef7e",
   "metadata": {},
   "outputs": [],
   "source": [
    "import pandas as pd\n",
    "import numpy as np\n",
    "import matplotlib.pyplot as plt\n",
    "import seaborn as sns"
   ]
  },
  {
   "cell_type": "code",
   "execution_count": 39,
   "id": "14d72089",
   "metadata": {},
   "outputs": [],
   "source": [
    "data = pd.read_csv('ab_testing.csv')"
   ]
  },
  {
   "cell_type": "code",
   "execution_count": 40,
   "id": "bf0017ef",
   "metadata": {},
   "outputs": [
    {
     "data": {
      "text/html": [
       "<div>\n",
       "<style scoped>\n",
       "    .dataframe tbody tr th:only-of-type {\n",
       "        vertical-align: middle;\n",
       "    }\n",
       "\n",
       "    .dataframe tbody tr th {\n",
       "        vertical-align: top;\n",
       "    }\n",
       "\n",
       "    .dataframe thead th {\n",
       "        text-align: right;\n",
       "    }\n",
       "</style>\n",
       "<table border=\"1\" class=\"dataframe\">\n",
       "  <thead>\n",
       "    <tr style=\"text-align: right;\">\n",
       "      <th></th>\n",
       "      <th>User ID</th>\n",
       "      <th>Group</th>\n",
       "      <th>Page Views</th>\n",
       "      <th>Time Spent</th>\n",
       "      <th>Conversion</th>\n",
       "      <th>Device</th>\n",
       "      <th>Location</th>\n",
       "    </tr>\n",
       "  </thead>\n",
       "  <tbody>\n",
       "    <tr>\n",
       "      <th>0</th>\n",
       "      <td>14292</td>\n",
       "      <td>B</td>\n",
       "      <td>3</td>\n",
       "      <td>424</td>\n",
       "      <td>No</td>\n",
       "      <td>Mobile</td>\n",
       "      <td>Northern Ireland</td>\n",
       "    </tr>\n",
       "    <tr>\n",
       "      <th>1</th>\n",
       "      <td>11682</td>\n",
       "      <td>A</td>\n",
       "      <td>9</td>\n",
       "      <td>342</td>\n",
       "      <td>No</td>\n",
       "      <td>Mobile</td>\n",
       "      <td>Scotland</td>\n",
       "    </tr>\n",
       "    <tr>\n",
       "      <th>2</th>\n",
       "      <td>19825</td>\n",
       "      <td>A</td>\n",
       "      <td>2</td>\n",
       "      <td>396</td>\n",
       "      <td>No</td>\n",
       "      <td>Desktop</td>\n",
       "      <td>Northern Ireland</td>\n",
       "    </tr>\n",
       "    <tr>\n",
       "      <th>3</th>\n",
       "      <td>16080</td>\n",
       "      <td>B</td>\n",
       "      <td>4</td>\n",
       "      <td>318</td>\n",
       "      <td>No</td>\n",
       "      <td>Desktop</td>\n",
       "      <td>Wales</td>\n",
       "    </tr>\n",
       "    <tr>\n",
       "      <th>4</th>\n",
       "      <td>18851</td>\n",
       "      <td>A</td>\n",
       "      <td>1</td>\n",
       "      <td>338</td>\n",
       "      <td>Yes</td>\n",
       "      <td>Desktop</td>\n",
       "      <td>Scotland</td>\n",
       "    </tr>\n",
       "  </tbody>\n",
       "</table>\n",
       "</div>"
      ],
      "text/plain": [
       "   User ID Group  Page Views  Time Spent Conversion   Device          Location\n",
       "0    14292     B           3         424         No   Mobile  Northern Ireland\n",
       "1    11682     A           9         342         No   Mobile          Scotland\n",
       "2    19825     A           2         396         No  Desktop  Northern Ireland\n",
       "3    16080     B           4         318         No  Desktop             Wales\n",
       "4    18851     A           1         338        Yes  Desktop          Scotland"
      ]
     },
     "execution_count": 40,
     "metadata": {},
     "output_type": "execute_result"
    }
   ],
   "source": [
    "data.head()"
   ]
  },
  {
   "cell_type": "markdown",
   "id": "9030ef48",
   "metadata": {},
   "source": [
    "Для удобства переименуем столбцы и сделаем все буквы строчными"
   ]
  },
  {
   "cell_type": "code",
   "execution_count": 41,
   "id": "77b91edb",
   "metadata": {},
   "outputs": [
    {
     "data": {
      "text/plain": [
       "User ID       0\n",
       "Group         0\n",
       "Page Views    0\n",
       "Time Spent    0\n",
       "Conversion    0\n",
       "Device        0\n",
       "Location      0\n",
       "dtype: int64"
      ]
     },
     "execution_count": 41,
     "metadata": {},
     "output_type": "execute_result"
    }
   ],
   "source": [
    "data.isna().sum()"
   ]
  },
  {
   "cell_type": "markdown",
   "id": "f776d38c",
   "metadata": {},
   "source": [
    "Датасет не содержит пропусков"
   ]
  },
  {
   "cell_type": "markdown",
   "id": "19903e86",
   "metadata": {},
   "source": [
    "## Предобработка данных"
   ]
  },
  {
   "cell_type": "markdown",
   "id": "131035f5",
   "metadata": {},
   "source": [
    "Приведем названия столбцов в удобный вид для дальнейшей работы (уберем пробелы и все буквы сделаем строчными)"
   ]
  },
  {
   "cell_type": "code",
   "execution_count": 42,
   "id": "79614046",
   "metadata": {},
   "outputs": [],
   "source": [
    "def name_col(col):\n",
    "    return '_'.join(col.lower().split(' '))\n",
    "new_cols = []\n",
    "for col in data.columns:\n",
    "    new_cols.append(name_col(col))\n",
    "\n",
    "data.columns = new_cols\n"
   ]
  },
  {
   "cell_type": "markdown",
   "id": "9b49c376",
   "metadata": {},
   "source": [
    "Заменим значение в столбце conversion на 1 (Yes) и 0 (No)"
   ]
  },
  {
   "cell_type": "code",
   "execution_count": 43,
   "id": "c91530e1",
   "metadata": {},
   "outputs": [],
   "source": [
    "data['conversion']=data['conversion'].apply(lambda x: 1 if x=='Yes' else 0)"
   ]
  },
  {
   "cell_type": "code",
   "execution_count": 44,
   "id": "18d2627e",
   "metadata": {},
   "outputs": [
    {
     "data": {
      "text/html": [
       "<div>\n",
       "<style scoped>\n",
       "    .dataframe tbody tr th:only-of-type {\n",
       "        vertical-align: middle;\n",
       "    }\n",
       "\n",
       "    .dataframe tbody tr th {\n",
       "        vertical-align: top;\n",
       "    }\n",
       "\n",
       "    .dataframe thead th {\n",
       "        text-align: right;\n",
       "    }\n",
       "</style>\n",
       "<table border=\"1\" class=\"dataframe\">\n",
       "  <thead>\n",
       "    <tr style=\"text-align: right;\">\n",
       "      <th></th>\n",
       "      <th>user_id</th>\n",
       "      <th>group</th>\n",
       "      <th>page_views</th>\n",
       "      <th>time_spent</th>\n",
       "      <th>conversion</th>\n",
       "      <th>device</th>\n",
       "      <th>location</th>\n",
       "    </tr>\n",
       "  </thead>\n",
       "  <tbody>\n",
       "    <tr>\n",
       "      <th>0</th>\n",
       "      <td>14292</td>\n",
       "      <td>B</td>\n",
       "      <td>3</td>\n",
       "      <td>424</td>\n",
       "      <td>0</td>\n",
       "      <td>Mobile</td>\n",
       "      <td>Northern Ireland</td>\n",
       "    </tr>\n",
       "    <tr>\n",
       "      <th>1</th>\n",
       "      <td>11682</td>\n",
       "      <td>A</td>\n",
       "      <td>9</td>\n",
       "      <td>342</td>\n",
       "      <td>0</td>\n",
       "      <td>Mobile</td>\n",
       "      <td>Scotland</td>\n",
       "    </tr>\n",
       "    <tr>\n",
       "      <th>2</th>\n",
       "      <td>19825</td>\n",
       "      <td>A</td>\n",
       "      <td>2</td>\n",
       "      <td>396</td>\n",
       "      <td>0</td>\n",
       "      <td>Desktop</td>\n",
       "      <td>Northern Ireland</td>\n",
       "    </tr>\n",
       "    <tr>\n",
       "      <th>3</th>\n",
       "      <td>16080</td>\n",
       "      <td>B</td>\n",
       "      <td>4</td>\n",
       "      <td>318</td>\n",
       "      <td>0</td>\n",
       "      <td>Desktop</td>\n",
       "      <td>Wales</td>\n",
       "    </tr>\n",
       "    <tr>\n",
       "      <th>4</th>\n",
       "      <td>18851</td>\n",
       "      <td>A</td>\n",
       "      <td>1</td>\n",
       "      <td>338</td>\n",
       "      <td>1</td>\n",
       "      <td>Desktop</td>\n",
       "      <td>Scotland</td>\n",
       "    </tr>\n",
       "    <tr>\n",
       "      <th>...</th>\n",
       "      <td>...</td>\n",
       "      <td>...</td>\n",
       "      <td>...</td>\n",
       "      <td>...</td>\n",
       "      <td>...</td>\n",
       "      <td>...</td>\n",
       "      <td>...</td>\n",
       "    </tr>\n",
       "    <tr>\n",
       "      <th>4995</th>\n",
       "      <td>16360</td>\n",
       "      <td>B</td>\n",
       "      <td>12</td>\n",
       "      <td>313</td>\n",
       "      <td>0</td>\n",
       "      <td>Mobile</td>\n",
       "      <td>Wales</td>\n",
       "    </tr>\n",
       "    <tr>\n",
       "      <th>4996</th>\n",
       "      <td>18084</td>\n",
       "      <td>B</td>\n",
       "      <td>10</td>\n",
       "      <td>313</td>\n",
       "      <td>0</td>\n",
       "      <td>Desktop</td>\n",
       "      <td>Northern Ireland</td>\n",
       "    </tr>\n",
       "    <tr>\n",
       "      <th>4997</th>\n",
       "      <td>12063</td>\n",
       "      <td>A</td>\n",
       "      <td>11</td>\n",
       "      <td>156</td>\n",
       "      <td>0</td>\n",
       "      <td>Desktop</td>\n",
       "      <td>England</td>\n",
       "    </tr>\n",
       "    <tr>\n",
       "      <th>4998</th>\n",
       "      <td>18647</td>\n",
       "      <td>B</td>\n",
       "      <td>13</td>\n",
       "      <td>346</td>\n",
       "      <td>0</td>\n",
       "      <td>Desktop</td>\n",
       "      <td>Wales</td>\n",
       "    </tr>\n",
       "    <tr>\n",
       "      <th>4999</th>\n",
       "      <td>16686</td>\n",
       "      <td>A</td>\n",
       "      <td>11</td>\n",
       "      <td>208</td>\n",
       "      <td>0</td>\n",
       "      <td>Desktop</td>\n",
       "      <td>Northern Ireland</td>\n",
       "    </tr>\n",
       "  </tbody>\n",
       "</table>\n",
       "<p>5000 rows × 7 columns</p>\n",
       "</div>"
      ],
      "text/plain": [
       "      user_id group  page_views  time_spent  conversion   device  \\\n",
       "0       14292     B           3         424           0   Mobile   \n",
       "1       11682     A           9         342           0   Mobile   \n",
       "2       19825     A           2         396           0  Desktop   \n",
       "3       16080     B           4         318           0  Desktop   \n",
       "4       18851     A           1         338           1  Desktop   \n",
       "...       ...   ...         ...         ...         ...      ...   \n",
       "4995    16360     B          12         313           0   Mobile   \n",
       "4996    18084     B          10         313           0  Desktop   \n",
       "4997    12063     A          11         156           0  Desktop   \n",
       "4998    18647     B          13         346           0  Desktop   \n",
       "4999    16686     A          11         208           0  Desktop   \n",
       "\n",
       "              location  \n",
       "0     Northern Ireland  \n",
       "1             Scotland  \n",
       "2     Northern Ireland  \n",
       "3                Wales  \n",
       "4             Scotland  \n",
       "...                ...  \n",
       "4995             Wales  \n",
       "4996  Northern Ireland  \n",
       "4997           England  \n",
       "4998             Wales  \n",
       "4999  Northern Ireland  \n",
       "\n",
       "[5000 rows x 7 columns]"
      ]
     },
     "execution_count": 44,
     "metadata": {},
     "output_type": "execute_result"
    }
   ],
   "source": [
    "data"
   ]
  },
  {
   "cell_type": "markdown",
   "id": "7d9396d6",
   "metadata": {},
   "source": [
    "## Анализ результатов А/В тестирования"
   ]
  },
  {
   "cell_type": "markdown",
   "id": "e7dbea1b",
   "metadata": {},
   "source": [
    "### Анализ различий конверсии между группами А и В"
   ]
  },
  {
   "cell_type": "markdown",
   "id": "89374aee",
   "metadata": {},
   "source": [
    "Сформулируем гипотезы: <br>\n",
    "Н0: Изменение оформления никак не повляет на конверсию <br>\n",
    "Н1: Изменение оформления поспособствует увеличению конверсии"
   ]
  },
  {
   "cell_type": "markdown",
   "id": "fa8ed0ca",
   "metadata": {},
   "source": [
    "Рассчитаем минимальный детектируемый эффект (MDE), чтобы понимать, добились ли мы необходимых различий в конверсии обеих групп"
   ]
  },
  {
   "cell_type": "code",
   "execution_count": 67,
   "id": "61a4240a",
   "metadata": {},
   "outputs": [
    {
     "name": "stdout",
     "output_type": "stream",
     "text": [
      "Минимальный детектируемый эффект (MDE) по page views: 0.02 %\n"
     ]
    }
   ],
   "source": [
    "from statsmodels.stats.power import NormalIndPower\n",
    "import numpy as np\n",
    "\n",
    "\n",
    "alpha = 0.05  # Уровень значимости\n",
    "power = 0.8   # Мощность теста\n",
    "\n",
    "\n",
    "group_A = data[data['group'] == 'A']['conversion']\n",
    "group_B = data[data['group'] == 'B']['conversion']\n",
    "\n",
    "\n",
    "pooled_std = np.sqrt((group_A.var() + group_B.var()) / 2)\n",
    "\n",
    "\n",
    "n = min(len(group_A), len(group_B))  \n",
    "\n",
    "analysis = NormalIndPower()\n",
    "effect_size = analysis.solve_power(nobs1=n, alpha=alpha, power=power, ratio=1, alternative='two-sided')\n",
    "\n",
    "# Переводим в метрику Conversion\n",
    "mde_views = effect_size * pooled_std\n",
    "\n",
    "print(f'Минимальный детектируемый эффект (MDE) по конверсии: {mde_views:.2f} %')\n"
   ]
  },
  {
   "cell_type": "markdown",
   "id": "89717ca1",
   "metadata": {},
   "source": [
    "Построим для начала таблицу со значениями конверсий для каждой из групп"
   ]
  },
  {
   "cell_type": "code",
   "execution_count": 45,
   "id": "dc491cd5",
   "metadata": {},
   "outputs": [
    {
     "data": {
      "text/html": [
       "<div>\n",
       "<style scoped>\n",
       "    .dataframe tbody tr th:only-of-type {\n",
       "        vertical-align: middle;\n",
       "    }\n",
       "\n",
       "    .dataframe tbody tr th {\n",
       "        vertical-align: top;\n",
       "    }\n",
       "\n",
       "    .dataframe thead th {\n",
       "        text-align: right;\n",
       "    }\n",
       "</style>\n",
       "<table border=\"1\" class=\"dataframe\">\n",
       "  <thead>\n",
       "    <tr style=\"text-align: right;\">\n",
       "      <th>conversion</th>\n",
       "      <th>0</th>\n",
       "      <th>1</th>\n",
       "    </tr>\n",
       "    <tr>\n",
       "      <th>group</th>\n",
       "      <th></th>\n",
       "      <th></th>\n",
       "    </tr>\n",
       "  </thead>\n",
       "  <tbody>\n",
       "    <tr>\n",
       "      <th>A</th>\n",
       "      <td>94.60</td>\n",
       "      <td>5.40</td>\n",
       "    </tr>\n",
       "    <tr>\n",
       "      <th>B</th>\n",
       "      <td>85.93</td>\n",
       "      <td>14.07</td>\n",
       "    </tr>\n",
       "  </tbody>\n",
       "</table>\n",
       "</div>"
      ],
      "text/plain": [
       "conversion      0      1\n",
       "group                   \n",
       "A           94.60   5.40\n",
       "B           85.93  14.07"
      ]
     },
     "execution_count": 45,
     "metadata": {},
     "output_type": "execute_result"
    }
   ],
   "source": [
    "round(pd.crosstab(data['group'], data['conversion'], normalize='index'),4) *100"
   ]
  },
  {
   "cell_type": "markdown",
   "id": "d7d1a92d",
   "metadata": {},
   "source": [
    "Из полученных результатов видно, что конверсия группы __А__ составила 5.40 %, а конверсия группы __В__ - 14.07. Значит прирост (uplift) составил __8.67 процентных пункта__ или 8.67/5.40 = __160.6 %__. Полученный результат превысил MDE, значит, можно продолжить дальнейший анализ "
   ]
  },
  {
   "cell_type": "markdown",
   "id": "464051fb",
   "metadata": {},
   "source": [
    "Проанализируем статистическую значимость полученных результатов и на основе этого уже принимать или отвергать нулевую гипотезу Н0. Для этого будет использован Z-test, с помощью которого удастся определить значение p-value (вероятность получить такие или еще более выраженные различия). Установим опорное значение p-value = 0.05, что значит, если полученное значение p-value будет меньше 0.05, то увеличение конверсии в группе В является статичтически значимым, а, следовательно, мы можем отвергнуть нулевую гипотезу и сделать вывод, что новое оформление действительно положительно влияет на конверсию"
   ]
  },
  {
   "cell_type": "code",
   "execution_count": 50,
   "id": "1189fed6",
   "metadata": {},
   "outputs": [
    {
     "name": "stdout",
     "output_type": "stream",
     "text": [
      "z-stat: -10.354488520266216\n",
      "p-value: 3.9931511894201938e-25\n"
     ]
    }
   ],
   "source": [
    "from statsmodels.stats.proportion import proportions_ztest\n",
    "\n",
    "converted_A = data[(data['group']=='A') & (data['conversion']==1)].shape[0] # число успешных конверсий в группе А\n",
    "converted_B = data[(data['group'] == 'B') & (data['conversion']==1)].shape[0] # число успешных конверсий в группе В\n",
    "\n",
    "total_A = data[data['group']=='A'].shape[0] # общее число наблюдений в группе А\n",
    "total_B = data[data['group']=='B'].shape[0] # общее число наблюдений в группе В\n",
    "\n",
    "success = [converted_A, converted_B]\n",
    "total = [total_A, total_B]\n",
    "\n",
    "z_stat, p_val = proportions_ztest(success, total)\n",
    "\n",
    "print(f'z-stat: {z_stat}')\n",
    "print(f'p-value: {p_val:}')"
   ]
  },
  {
   "cell_type": "markdown",
   "id": "1a590111",
   "metadata": {},
   "source": [
    "Значение p-value не привысило 0.05 (3.99*10^-25<0.05), следовательно мы можем отвергнуть нулевую гипотезу и сделать заключение о статистической значимости полученных изменений. Однако лучше также проверить влияние и вклад различных факторов на увеличение конверсии, например, платформы, с которой просматривалась страница или страны."
   ]
  },
  {
   "cell_type": "markdown",
   "id": "b84ea582",
   "metadata": {},
   "source": [
    "#### Сегментный анализ "
   ]
  },
  {
   "cell_type": "markdown",
   "id": "ee24f8bf",
   "metadata": {},
   "source": [
    "Проверим, обуслувлены ли различия в конверсии дополнительными факторами, такими как устройство пользователя (device) или его географическое местоположение (location).  \n",
    "Для этого проведём **тесты хи-квадрат независимости**, чтобы проверить наличие статистически значимой связи между конверсией и указанными признаками."
   ]
  },
  {
   "cell_type": "code",
   "execution_count": 52,
   "id": "efde6d1a",
   "metadata": {},
   "outputs": [
    {
     "name": "stdout",
     "output_type": "stream",
     "text": [
      "Chi2 Statistic: 0.3642000562330795\n",
      "P-Value: 0.5461828342638735\n"
     ]
    }
   ],
   "source": [
    "from scipy.stats import chi2_contingency\n",
    "import pandas as pd\n",
    "\n",
    "# Примерная таблица сопряженности\n",
    "table = pd.crosstab(data['device'], data['conversion'])\n",
    "\n",
    "chi2, p, dof, expected = chi2_contingency(table)\n",
    "\n",
    "print(f\"Chi2 Statistic: {chi2}\")\n",
    "print(f\"P-Value: {p}\")\n"
   ]
  },
  {
   "cell_type": "markdown",
   "id": "5a17b98e",
   "metadata": {},
   "source": [
    "p-value больше уровня значимости 0.05, следовательно, мы не можем говорить о статистически значимом влиянии девайса на конверсию"
   ]
  },
  {
   "cell_type": "code",
   "execution_count": 53,
   "id": "f8c351fc",
   "metadata": {},
   "outputs": [
    {
     "name": "stdout",
     "output_type": "stream",
     "text": [
      "Chi2 Statistic: 4.9349148365909015\n",
      "P-Value: 0.17662550981879305\n"
     ]
    }
   ],
   "source": [
    "from scipy.stats import chi2_contingency\n",
    "import pandas as pd\n",
    "\n",
    "# Примерная таблица сопряженности\n",
    "table = pd.crosstab(data['location'], data['conversion'])\n",
    "\n",
    "chi2, p, dof, expected = chi2_contingency(table)\n",
    "\n",
    "print(f\"Chi2 Statistic: {chi2}\")\n",
    "print(f\"P-Value: {p}\")\n"
   ]
  },
  {
   "cell_type": "markdown",
   "id": "f9962bce",
   "metadata": {},
   "source": [
    "p-value больше уровня значимости 0.05, следовательно, мы не можем говорить о статистически значимом влиянии локации на конверсию"
   ]
  },
  {
   "cell_type": "markdown",
   "id": "4251b608",
   "metadata": {},
   "source": [
    "Проведённый сегментный анализ показывает, что **ни устройство, ни географическое местоположение пользователя не влияют на конверсию**. Следовательно, выявленные различия между группами **не могут быть объяснены эффектами устройств или регионов**."
   ]
  },
  {
   "cell_type": "markdown",
   "id": "9aa0f937",
   "metadata": {},
   "source": [
    "### Анализ различий времени (в секундах), проведенных на сайте, между группами А и B"
   ]
  },
  {
   "cell_type": "markdown",
   "id": "ad69de03",
   "metadata": {},
   "source": [
    "Сформулируем гипотезы: <br>\n",
    "Н0: Изменение оформления никак не повляет на среднее время, которое пользователи проводят на сайте <br>\n",
    "Н1: Изменение оформления поспособствует увеличению среднего времени, проводимом на сайте"
   ]
  },
  {
   "cell_type": "markdown",
   "id": "4fa312f0",
   "metadata": {},
   "source": [
    "Рассчитаем минимальный детектируемый эффект (MDE), чтобы понимать, добились ли мы необходимых различий в конверсии обеих групп"
   ]
  },
  {
   "cell_type": "code",
   "execution_count": 61,
   "id": "23a6943e",
   "metadata": {},
   "outputs": [
    {
     "name": "stdout",
     "output_type": "stream",
     "text": [
      "Минимальный детектируемый эффект (MDE) по time spent: 9.41 секунд\n"
     ]
    }
   ],
   "source": [
    "from statsmodels.stats.power import NormalIndPower\n",
    "import numpy as np\n",
    "\n",
    "# Параметры\n",
    "alpha = 0.05  # Уровень значимости\n",
    "power = 0.8   # Мощность теста\n",
    "\n",
    "\n",
    "group_A = data[data['group'] == 'A']['time_spent']\n",
    "group_B = data[data['group'] == 'B']['time_spent']\n",
    "\n",
    "\n",
    "pooled_std = np.sqrt((group_A.var() + group_B.var()) / 2)\n",
    "\n",
    "\n",
    "n = min(len(group_A), len(group_B))  \n",
    "\n",
    "\n",
    "analysis = NormalIndPower()\n",
    "effect_size = analysis.solve_power(nobs1=n, alpha=alpha, power=power, ratio=1, alternative='two-sided')\n",
    "\n",
    "\n",
    "mde_views = effect_size * pooled_std\n",
    "\n",
    "print(f'Минимальный детектируемый эффект (MDE) по time spent: {mde_views:.2f} секунд')\n"
   ]
  },
  {
   "cell_type": "code",
   "execution_count": 58,
   "id": "07c8cf76",
   "metadata": {},
   "outputs": [
    {
     "name": "stdout",
     "output_type": "stream",
     "text": [
      "Среднее время на сайте для группы A: 241.73 секунд\n",
      "Среднее время на сайте для группы B: 243.30 секунд\n"
     ]
    }
   ],
   "source": [
    "# Для time_spent\n",
    "mean_time_spent_A = data[data['group'] == 'A']['time_spent'].mean()\n",
    "mean_time_spent_B = data[data['group'] == 'B']['time_spent'].mean()\n",
    "\n",
    "print(f'Среднее время на сайте для группы A: {mean_time_spent_A:.2f} секунд')\n",
    "print(f'Среднее время на сайте для группы B: {mean_time_spent_B:.2f} секунд')"
   ]
  },
  {
   "cell_type": "markdown",
   "id": "dc537da4",
   "metadata": {},
   "source": [
    "Из полученных результатов видно, что среднее время, которое пользователи проводят на сайте увеличилось на 1.57 секунды, что меньше MDE (1.57<9.41)\n",
    "Это означает, что:\n",
    "- Даже если статистические тесты показали бы значимость (маленький p-value), **различие настолько мало, что оно не имеет практической ценности** для бизнеса.\n",
    "- Мы **не можем с уверенностью утверждать**, что наблюдаемое различие представляет собой реальное улучшение метрики, а не просто случайные колебания."
   ]
  },
  {
   "cell_type": "markdown",
   "id": "608707b7",
   "metadata": {},
   "source": [
    "### Анализ различий количества просмотренных страниц, проведенных на сайте, между группами А и B"
   ]
  },
  {
   "cell_type": "markdown",
   "id": "0354024e",
   "metadata": {},
   "source": [
    "Сформулируем гипотезы: <br>\n",
    "Н0: Изменение оформления никак не повляет на среднее количество страниц, просматриваемых пользователями <br>\n",
    "Н1: Изменение оформления поспособствует увеличению среднего количества страниц, просматриваемых пользователями "
   ]
  },
  {
   "cell_type": "code",
   "execution_count": 60,
   "id": "d353ffb3",
   "metadata": {},
   "outputs": [
    {
     "name": "stdout",
     "output_type": "stream",
     "text": [
      "Минимальный детектируемый эффект (MDE) по page views: 0.32 страниц\n"
     ]
    }
   ],
   "source": [
    "from statsmodels.stats.power import NormalIndPower\n",
    "import numpy as np\n",
    "\n",
    "# Параметры\n",
    "alpha = 0.05  # Уровень значимости\n",
    "power = 0.8   # Мощность теста\n",
    "\n",
    "\n",
    "group_A = data[data['group'] == 'A']['page_views']\n",
    "group_B = data[data['group'] == 'B']['page_views']\n",
    "\n",
    "\n",
    "pooled_std = np.sqrt((group_A.var() + group_B.var()) / 2)\n",
    "\n",
    "\n",
    "n = min(len(group_A), len(group_B))  \n",
    "\n",
    "\n",
    "analysis = NormalIndPower()\n",
    "effect_size = analysis.solve_power(nobs1=n, alpha=alpha, power=power, ratio=1, alternative='two-sided')\n",
    "\n",
    "\n",
    "mde_views = effect_size * pooled_std\n",
    "\n",
    "print(f'Минимальный детектируемый эффект (MDE) по page views: {mde_views:.2f} страниц')\n"
   ]
  },
  {
   "cell_type": "code",
   "execution_count": 59,
   "id": "43c7a7dd",
   "metadata": {},
   "outputs": [
    {
     "name": "stdout",
     "output_type": "stream",
     "text": [
      "Среднее количество просмотренных страниц для группы A: 7.58\n",
      "Среднее количество просмотренных страниц для группы B: 7.49\n"
     ]
    }
   ],
   "source": [
    "\n",
    "mean_page_views_A = data[data['group'] == 'A']['page_views'].mean()\n",
    "mean_page_views_B = data[data['group'] == 'B']['page_views'].mean()\n",
    "\n",
    "print(f'Среднее количество просмотренных страниц для группы A: {mean_page_views_A:.2f}')\n",
    "print(f'Среднее количество просмотренных страниц для группы B: {mean_page_views_B:.2f}')"
   ]
  },
  {
   "cell_type": "markdown",
   "id": "49039bc5",
   "metadata": {},
   "source": [
    "Из полученных результатов видно, что среднее количество страниц, просматриваемых пользователями уменьшилось на 0.9 страницы, что меньше MDE (0.9<0.32)\n",
    "Это означает, что:\n",
    "- Даже если статистические тесты показали бы значимость (маленький p-value), **различие настолько мало, что оно не имеет практической ценности** для бизнеса.\n",
    "- Мы **не можем с уверенностью утверждать**, что наблюдаемое различие представляет собой реальное улучшение метрики, а не просто случайные колебания."
   ]
  },
  {
   "cell_type": "markdown",
   "id": "9bce0b27",
   "metadata": {},
   "source": [
    "## Вывод"
   ]
  },
  {
   "cell_type": "markdown",
   "id": "9bbfcf5e",
   "metadata": {},
   "source": []
  },
  {
   "cell_type": "markdown",
   "id": "63541722",
   "metadata": {},
   "source": []
  }
 ],
 "metadata": {
  "kernelspec": {
   "display_name": "Python 3",
   "language": "python",
   "name": "python3"
  },
  "language_info": {
   "codemirror_mode": {
    "name": "ipython",
    "version": 3
   },
   "file_extension": ".py",
   "mimetype": "text/x-python",
   "name": "python",
   "nbconvert_exporter": "python",
   "pygments_lexer": "ipython3",
   "version": "3.12.4"
  }
 },
 "nbformat": 4,
 "nbformat_minor": 5
}
