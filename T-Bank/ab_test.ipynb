{
 "cells": [
  {
   "cell_type": "markdown",
   "id": "09d6a939",
   "metadata": {},
   "source": [
    "# А/B тестирование "
   ]
  },
  {
   "cell_type": "markdown",
   "id": "5e908a06",
   "metadata": {},
   "source": [
    "В ходе анализа клиентских звонков банка \"Т-Банк\" была сформулирована гипотеза: увеличение льготного периода по кредитной карте позволит снизить долю отказов с причиной \"Кредитная карта не нужна\". <br>\n",
    "Для проверки гипотезы был разработан и подготовлен датасет, отражающий результаты A/B-тестирования, основанный на исторических паттернах поведения клиентов.\n",
    "В рамках набора данных содержалась следующая информация: <br>\n",
    "\n",
    "group: контрольная или тестовая группа;<br>\n",
    "\n",
    "success_flg: флаг успешного звонка (1 — успех); <br>\n",
    "\n",
    "fail_reason: причина отказа (если звонок был неуспешным). <br>\n",
    "\n",
    "Подготовленный датасет позволил провести предварительный анализ эффективности изменения оффера до фактического запуска эксперимента."
   ]
  },
  {
   "cell_type": "markdown",
   "id": "8e77fa8f",
   "metadata": {},
   "source": [
    "Заранее был проведен дизайн А/B теста, просчитаны минимальный детектируемый эффект (~4.5 п.п.), уровень значимости alpha = 0.05, мощность теста beta = 0.8 и размер выборки, который составил 4000 человек (по 2000 человек в каждой группе)"
   ]
  },
  {
   "cell_type": "markdown",
   "id": "106cedb3",
   "metadata": {},
   "source": [
    "**Гипотезы**<br>\n",
    "H0: Если льготный период составляет 55 дней, то доля отказов по причине «Кредитная карта не нужна» в тестовой группе не отличается от контрольной или снижение менее 10% относительно контрольной. <br>\n",
    "H1: Если расширить льготный период до 120 дней на все покупки, то доля отказов по причине «Кредитная карта не нужна» в тестовой группе снижена минимум на 10% относительно контрольной группы (в относительном выражении)."
   ]
  },
  {
   "cell_type": "markdown",
   "id": "7924d775",
   "metadata": {},
   "source": [
    "## Анализ результатов"
   ]
  },
  {
   "cell_type": "markdown",
   "id": "6df7d1a4",
   "metadata": {},
   "source": [
    "Импорт необходимых библиотек"
   ]
  },
  {
   "cell_type": "code",
   "execution_count": 8,
   "id": "a4396679",
   "metadata": {},
   "outputs": [],
   "source": [
    "import pandas as pd\n",
    "import numpy as np\n",
    "import matplotlib.pyplot as plt\n",
    "import seaborn as sns"
   ]
  },
  {
   "cell_type": "markdown",
   "id": "a3f62711",
   "metadata": {},
   "source": [
    "Читаем данные и записываем в переменную df"
   ]
  },
  {
   "cell_type": "code",
   "execution_count": 10,
   "id": "106d92a6",
   "metadata": {},
   "outputs": [
    {
     "data": {
      "text/html": [
       "<div>\n",
       "<style scoped>\n",
       "    .dataframe tbody tr th:only-of-type {\n",
       "        vertical-align: middle;\n",
       "    }\n",
       "\n",
       "    .dataframe tbody tr th {\n",
       "        vertical-align: top;\n",
       "    }\n",
       "\n",
       "    .dataframe thead th {\n",
       "        text-align: right;\n",
       "    }\n",
       "</style>\n",
       "<table border=\"1\" class=\"dataframe\">\n",
       "  <thead>\n",
       "    <tr style=\"text-align: right;\">\n",
       "      <th></th>\n",
       "      <th>group</th>\n",
       "      <th>success_flg</th>\n",
       "      <th>fail_reason</th>\n",
       "    </tr>\n",
       "  </thead>\n",
       "  <tbody>\n",
       "    <tr>\n",
       "      <th>0</th>\n",
       "      <td>control</td>\n",
       "      <td>0</td>\n",
       "      <td>Другая причина</td>\n",
       "    </tr>\n",
       "    <tr>\n",
       "      <th>1</th>\n",
       "      <td>control</td>\n",
       "      <td>1</td>\n",
       "      <td>NaN</td>\n",
       "    </tr>\n",
       "    <tr>\n",
       "      <th>2</th>\n",
       "      <td>control</td>\n",
       "      <td>0</td>\n",
       "      <td>Другая причина</td>\n",
       "    </tr>\n",
       "    <tr>\n",
       "      <th>3</th>\n",
       "      <td>control</td>\n",
       "      <td>0</td>\n",
       "      <td>Другая причина</td>\n",
       "    </tr>\n",
       "    <tr>\n",
       "      <th>4</th>\n",
       "      <td>control</td>\n",
       "      <td>0</td>\n",
       "      <td>Кредитная карта не нужна</td>\n",
       "    </tr>\n",
       "    <tr>\n",
       "      <th>...</th>\n",
       "      <td>...</td>\n",
       "      <td>...</td>\n",
       "      <td>...</td>\n",
       "    </tr>\n",
       "    <tr>\n",
       "      <th>3995</th>\n",
       "      <td>test</td>\n",
       "      <td>0</td>\n",
       "      <td>Другая причина</td>\n",
       "    </tr>\n",
       "    <tr>\n",
       "      <th>3996</th>\n",
       "      <td>test</td>\n",
       "      <td>0</td>\n",
       "      <td>Кредитная карта не нужна</td>\n",
       "    </tr>\n",
       "    <tr>\n",
       "      <th>3997</th>\n",
       "      <td>test</td>\n",
       "      <td>0</td>\n",
       "      <td>Кредитная карта не нужна</td>\n",
       "    </tr>\n",
       "    <tr>\n",
       "      <th>3998</th>\n",
       "      <td>test</td>\n",
       "      <td>0</td>\n",
       "      <td>Другая причина</td>\n",
       "    </tr>\n",
       "    <tr>\n",
       "      <th>3999</th>\n",
       "      <td>test</td>\n",
       "      <td>0</td>\n",
       "      <td>Кредитная карта не нужна</td>\n",
       "    </tr>\n",
       "  </tbody>\n",
       "</table>\n",
       "<p>4000 rows × 3 columns</p>\n",
       "</div>"
      ],
      "text/plain": [
       "        group  success_flg               fail_reason\n",
       "0     control            0            Другая причина\n",
       "1     control            1                       NaN\n",
       "2     control            0            Другая причина\n",
       "3     control            0            Другая причина\n",
       "4     control            0  Кредитная карта не нужна\n",
       "...       ...          ...                       ...\n",
       "3995     test            0            Другая причина\n",
       "3996     test            0  Кредитная карта не нужна\n",
       "3997     test            0  Кредитная карта не нужна\n",
       "3998     test            0            Другая причина\n",
       "3999     test            0  Кредитная карта не нужна\n",
       "\n",
       "[4000 rows x 3 columns]"
      ]
     },
     "execution_count": 10,
     "metadata": {},
     "output_type": "execute_result"
    }
   ],
   "source": [
    "df = pd.read_csv('ab_test_simulated_credit_card.csv')\n",
    "df"
   ]
  },
  {
   "cell_type": "markdown",
   "id": "ab10ced1",
   "metadata": {},
   "source": [
    "### Анализ результатов общей конверсии"
   ]
  },
  {
   "cell_type": "code",
   "execution_count": 22,
   "id": "66951447",
   "metadata": {},
   "outputs": [
    {
     "data": {
      "text/html": [
       "<div>\n",
       "<style scoped>\n",
       "    .dataframe tbody tr th:only-of-type {\n",
       "        vertical-align: middle;\n",
       "    }\n",
       "\n",
       "    .dataframe tbody tr th {\n",
       "        vertical-align: top;\n",
       "    }\n",
       "\n",
       "    .dataframe thead th {\n",
       "        text-align: right;\n",
       "    }\n",
       "</style>\n",
       "<table border=\"1\" class=\"dataframe\">\n",
       "  <thead>\n",
       "    <tr style=\"text-align: right;\">\n",
       "      <th></th>\n",
       "      <th>group</th>\n",
       "      <th>sum</th>\n",
       "      <th>count</th>\n",
       "      <th>conversion_rate</th>\n",
       "    </tr>\n",
       "  </thead>\n",
       "  <tbody>\n",
       "    <tr>\n",
       "      <th>0</th>\n",
       "      <td>control</td>\n",
       "      <td>236</td>\n",
       "      <td>2000</td>\n",
       "      <td>0.1180</td>\n",
       "    </tr>\n",
       "    <tr>\n",
       "      <th>1</th>\n",
       "      <td>test</td>\n",
       "      <td>265</td>\n",
       "      <td>2000</td>\n",
       "      <td>0.1325</td>\n",
       "    </tr>\n",
       "  </tbody>\n",
       "</table>\n",
       "</div>"
      ],
      "text/plain": [
       "     group  sum  count  conversion_rate\n",
       "0  control  236   2000           0.1180\n",
       "1     test  265   2000           0.1325"
      ]
     },
     "execution_count": 22,
     "metadata": {},
     "output_type": "execute_result"
    },
    {
     "data": {
      "image/png": "[encoded data removed]",
      "text/plain": [
       "<Figure size 640x480 with 1 Axes>"
      ]
     },
     "metadata": {},
     "output_type": "display_data"
    }
   ],
   "source": [
    "conversion_data = df.groupby('group')['success_flg'].agg(['sum', 'count']).reset_index()\n",
    "conversion_data['conversion_rate'] = conversion_data['sum'] / conversion_data['count']\n",
    "\n",
    "sns.barplot(data = conversion_data, x = 'group', y = 'conversion_rate')\n",
    "plt.title('Доля отказов\"')\n",
    "plt.ylabel('Доля отказов')\n",
    "plt.xlabel('Группа')\n",
    "conversion_data"
   ]
  },
  {
   "cell_type": "markdown",
   "id": "aa228f66",
   "metadata": {},
   "source": [
    "Разница между конверсиями групп составил 1.45 п.п. (12.3 % в относительных величинах). Далее проведем Z-test для оценки статистической значимости различий"
   ]
  },
  {
   "cell_type": "code",
   "execution_count": 20,
   "id": "3402ddbc",
   "metadata": {},
   "outputs": [
    {
     "name": "stdout",
     "output_type": "stream",
     "text": [
      "Z-статистика: -1.3853\n",
      "p-value: 0.1660\n",
      "Различия НЕ статистически значимы — нет оснований отвергать H0.\n"
     ]
    }
   ],
   "source": [
    "from statsmodels.stats.proportion import proportions_ztest\n",
    "\n",
    "successes = conversion_data['sum'].values\n",
    "samples = conversion_data['count'].values\n",
    "\n",
    "\n",
    "z_stat, p_value = proportions_ztest(count=successes, nobs=samples)\n",
    "\n",
    "print(f\"Z-статистика: {z_stat:.4f}\")\n",
    "print(f\"p-value: {p_value:.4f}\")\n",
    "\n",
    "\n",
    "alpha = 0.05\n",
    "if p_value < alpha:\n",
    "    print(\"Различия статистически значимы — отвергаем H0.\")\n",
    "else:\n",
    "    print(\"Различия НЕ статистически значимы — нет оснований отвергать H0.\")"
   ]
  },
  {
   "cell_type": "markdown",
   "id": "7f08ee48",
   "metadata": {},
   "source": [
    "### Анализ доли отказов с причиной \"Кредитная карта не нужна\""
   ]
  },
  {
   "cell_type": "code",
   "execution_count": 28,
   "id": "1fa7d73c",
   "metadata": {},
   "outputs": [
    {
     "name": "stderr",
     "output_type": "stream",
     "text": [
      "C:\\Users\\ILIYA\\AppData\\Local\\Temp\\ipykernel_19988\\3741844792.py:3: SettingWithCopyWarning: \n",
      "A value is trying to be set on a copy of a slice from a DataFrame.\n",
      "Try using .loc[row_indexer,col_indexer] = value instead\n",
      "\n",
      "See the caveats in the documentation: https://pandas.pydata.org/pandas-docs/stable/user_guide/indexing.html#returning-a-view-versus-a-copy\n",
      "  fail_df['target_reason'] = fail_df['fail_reason'] == 'Кредитная карта не нужна'\n"
     ]
    },
    {
     "data": {
      "text/html": [
       "<div>\n",
       "<style scoped>\n",
       "    .dataframe tbody tr th:only-of-type {\n",
       "        vertical-align: middle;\n",
       "    }\n",
       "\n",
       "    .dataframe tbody tr th {\n",
       "        vertical-align: top;\n",
       "    }\n",
       "\n",
       "    .dataframe thead th {\n",
       "        text-align: right;\n",
       "    }\n",
       "</style>\n",
       "<table border=\"1\" class=\"dataframe\">\n",
       "  <thead>\n",
       "    <tr style=\"text-align: right;\">\n",
       "      <th></th>\n",
       "      <th>group</th>\n",
       "      <th>sum</th>\n",
       "      <th>count</th>\n",
       "      <th>fail_rate</th>\n",
       "    </tr>\n",
       "  </thead>\n",
       "  <tbody>\n",
       "    <tr>\n",
       "      <th>0</th>\n",
       "      <td>control</td>\n",
       "      <td>776</td>\n",
       "      <td>1764</td>\n",
       "      <td>0.439909</td>\n",
       "    </tr>\n",
       "    <tr>\n",
       "      <th>1</th>\n",
       "      <td>test</td>\n",
       "      <td>684</td>\n",
       "      <td>1735</td>\n",
       "      <td>0.394236</td>\n",
       "    </tr>\n",
       "  </tbody>\n",
       "</table>\n",
       "</div>"
      ],
      "text/plain": [
       "     group  sum  count  fail_rate\n",
       "0  control  776   1764   0.439909\n",
       "1     test  684   1735   0.394236"
      ]
     },
     "execution_count": 28,
     "metadata": {},
     "output_type": "execute_result"
    },
    {
     "data": {
      "image/png": "[encoded data removed]",
      "text/plain": [
       "<Figure size 640x480 with 1 Axes>"
      ]
     },
     "metadata": {},
     "output_type": "display_data"
    }
   ],
   "source": [
    "fail_df = df[(df['success_flg'] == 0)]\n",
    "\n",
    "fail_df['target_reason'] = fail_df['fail_reason'] == 'Кредитная карта не нужна'\n",
    "\n",
    "fail_reason_data = fail_df.groupby('group')['target_reason'].agg(['sum', 'count']).reset_index()\n",
    "fail_reason_data['fail_rate'] = fail_reason_data['sum'] / fail_reason_data['count']\n",
    "\n",
    "sns.barplot(data=fail_reason_data, x='group', y='fail_rate')\n",
    "plt.title('Доля отказов с причиной \"Кредитная карта не нужна\"')\n",
    "plt.ylabel('Доля отказов')\n",
    "plt.xlabel('Группа')\n",
    "\n",
    "fail_reason_data\n"
   ]
  },
  {
   "cell_type": "markdown",
   "id": "dde40768",
   "metadata": {},
   "source": [
    "Разница между конверсиями групп составил 4.56 п.п. (10.4 % в относительных величинах). Далее проведем Z-test для оценки статистической значимости различий"
   ]
  },
  {
   "cell_type": "code",
   "execution_count": 26,
   "id": "3076e0c6",
   "metadata": {},
   "outputs": [
    {
     "name": "stdout",
     "output_type": "stream",
     "text": [
      "Z-статистика: 2.7393\n",
      "P-значение: 0.0062\n",
      "Различия статистически значимы — гипотеза подтверждается.\n"
     ]
    }
   ],
   "source": [
    "from statsmodels.stats.proportion import proportions_ztest\n",
    "\n",
    "\n",
    "failures = fail_reason_data['sum'].values\n",
    "fail_samples = fail_reason_data['count'].values\n",
    "\n",
    "z_stat, p_value = proportions_ztest(count=failures, nobs=fail_samples)\n",
    "\n",
    "print(f\"Z-статистика: {z_stat:.4f}\")\n",
    "print(f\"P-значение: {p_value:.4f}\")\n",
    "\n",
    "\n",
    "alpha = 0.05\n",
    "if p_value < alpha:\n",
    "    print(\"Различия статистически значимы — гипотеза подтверждается.\")\n",
    "else:\n",
    "    print(\"Различия НЕ статистически значимы — гипотеза не подтверждается.\")\n"
   ]
  },
  {
   "cell_type": "markdown",
   "id": "b51d42a9",
   "metadata": {},
   "source": [
    "## Вывод"
   ]
  },
  {
   "cell_type": "markdown",
   "id": "c2022738",
   "metadata": {},
   "source": [
    "В ходе анализа был получен статистически значимый результат в изменении ключевой метрики (уменьшение конверсии отказов). Следовательно, можно отвергнуть нулевую гипотезу в пользу альтернативной и сделать вывод, что если расширить льготный период до 120 дней на все покупки, то доля отказов по причине «Кредитная карта не нужна» в тестовой группе снижена на 10.4% относительно контрольной группы (в относительном выражении)."
   ]
  }
 ],
 "metadata": {
  "kernelspec": {
   "display_name": "Python 3",
   "language": "python",
   "name": "python3"
  },
  "language_info": {
   "codemirror_mode": {
    "name": "ipython",
    "version": 3
   },
   "file_extension": ".py",
   "mimetype": "text/x-python",
   "name": "python",
   "nbconvert_exporter": "python",
   "pygments_lexer": "ipython3",
   "version": "3.12.4"
  }
 },
 "nbformat": 4,
 "nbformat_minor": 5
}
